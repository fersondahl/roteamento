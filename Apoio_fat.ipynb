{
  "nbformat": 4,
  "nbformat_minor": 0,
  "metadata": {
    "colab": {
      "name": "Apoio_fat.ipynb",
      "provenance": [],
      "collapsed_sections": []
    },
    "kernelspec": {
      "name": "python3",
      "display_name": "Python 3"
    },
    "language_info": {
      "name": "python"
    }
  },
  "cells": [
    {
      "cell_type": "code",
      "source": [
        "!pip install dataframe_image"
      ],
      "metadata": {
        "id": "jJCsb7JWUpUc"
      },
      "execution_count": null,
      "outputs": []
    },
    {
      "cell_type": "code",
      "execution_count": 4,
      "metadata": {
        "id": "ktOz5476TVMG"
      },
      "outputs": [],
      "source": [
        "import pandas as pd\n",
        "import numpy as np\n",
        "from datetime import datetime, timezone, timedelta\n",
        "import dataframe_image as dfi\n",
        "import seaborn as sns\n",
        "import matplotlib\n",
        "import matplotlib.pyplot as plt\n",
        "import os\n",
        "import pyarrow as pa\n",
        "import pyarrow.parquet as pq\n",
        "\n",
        "pd.set_option('mode.chained_assignment',None)"
      ]
    },
    {
      "cell_type": "code",
      "source": [
        "pasta = '/content/Apoio'\n",
        "ap_fat = pd.DataFrame()\n",
        "for diretorio, subpastas, arquivos in os.walk(pasta):\n",
        "    for arquivo in arquivos:\n",
        "        file_loc = os.path.join(os.path.realpath(diretorio), arquivo) #2min 14s\n",
        "        ap_fat = ap_fat.append(pd.read_excel(io=file_loc, header=6))"
      ],
      "metadata": {
        "id": "LD7Hu_gxQCNt"
      },
      "execution_count": 5,
      "outputs": []
    },
    {
      "cell_type": "code",
      "source": [
        "ap_fat.to_excel('apoio-fat.xlsx') # 3m 25s"
      ],
      "metadata": {
        "id": "G0N5kr83ediy"
      },
      "execution_count": 6,
      "outputs": []
    },
    {
      "cell_type": "code",
      "source": [
        "apoio_fat = ap_fat[['Ciclo', 'Rota', 'Matrícula', 'Nome do Cliente',\n",
        "       'Tipo de Cliente', 'Categoria Principal', 'Subcategoria',\n",
        "       'Res', 'Com', 'Ind', 'Pub', 'Qtde. Economias', 'Situação Água',\n",
        "       'Situação Esgoto', 'Situação HD', 'Nº HD',\n",
        "       'Cons. Estimado', 'Cons. Medido Água', 'Cons. Faturado Água', 'Cons. Medido Esgoto',\n",
        "       'Cons. Faturado Esgoto', 'Cons. Faturado Esgoto FA', 'Cons. Pipa',\n",
        "       'Cons. Resíduo Subst.', 'Cons. Resíduo Corte', 'Cons. Resíduo Aferição',\n",
        "       'Crédito Utilizado', 'Média Faturada 12 Meses', \n",
        "       'Tipo Retenção', 'Situação Retenção','Motivo Retenção', 'Tarifa',\n",
        "       'Dt. Faturamento', 'Dt. Emissão',\n",
        "       'Dt. Vencimento', 'Vl. Água', 'Vl. Esgoto',\n",
        "       'Vl. Esgoto Fonte Alternativa', 'Vl. Recursos Hídricos', 'Vl. Juros',\n",
        "       'Vl. Multa', 'Vl. Parcelamentos', 'Vl. Serviços', 'Vl. Devolução',\n",
        "       'Vl. Desconto', 'Vl. Desconto Pq. Comércio',\n",
        "       'Vl. Desconto Residencial Social', 'Vl. Desconto Estimadas', 'Vl. ICMS',\n",
        "       'Vl. ASEP', 'Vl. Imposto Retido', 'Vl. Total', 'Vl. Total ',\n",
        "       'Em Débito Automático?']]\n",
        "\n",
        "print(f\"{round(ap_fat['Vl. Total'].sum(), 2)}, {round(ap_fat['Vl. Água'].sum(), 2)}, {round(ap_fat['Vl. Esgoto'].sum(), 2)}\")"
      ],
      "metadata": {
        "colab": {
          "base_uri": "https://localhost:8080/"
        },
        "id": "eMgmTNIaRPhM",
        "outputId": "691c1b5d-8c9d-478f-9079-f38d78e99866"
      },
      "execution_count": 7,
      "outputs": [
        {
          "output_type": "stream",
          "name": "stdout",
          "text": [
            "48795151.23, 26252391.39, 20816934.9\n"
          ]
        }
      ]
    },
    {
      "cell_type": "code",
      "source": [
        "ap_fat.drop(['Leitura Anterior', 'Leitura Atual', 'Conta Corrente'], axis=1).to_parquet(\n",
        "    './apoio-fat.parquet',engine='pyarrow', compression='gzip') #1s"
      ],
      "metadata": {
        "id": "ugxZyrHHVrry"
      },
      "execution_count": 8,
      "outputs": []
    },
    {
      "cell_type": "code",
      "source": [
        "tstt = pd.read_parquet('/content/apoio-fat.parquet') #0s"
      ],
      "metadata": {
        "id": "ho9RkaPFW0n5"
      },
      "execution_count": 9,
      "outputs": []
    },
    {
      "cell_type": "code",
      "source": [
        "# tstt['Dt. Vencimento'].strftime('%m')\n",
        "tstt = pd.read_parquet('/content/apoio-fat.parquet')\n",
        "tstt['Dt. Faturamento'] = tstt['Dt. Faturamento'].apply(lambda linha: linha.strftime('%m-%y'))\n",
        "mes_fat = tstt[['Dt. Faturamento', 'Matrícula']].groupby('Dt. Faturamento').agg('count').index.to_series().max()\n",
        "\n",
        "ref = mes_fat.split('-')\n",
        "\n",
        "if int(ref[0]) <= 10:\n",
        "  if int(ref[0]) == 1:\n",
        "    referencia = \"12\" + \"-\" + str(int(ref[1]) - 1)\n",
        "  else:\n",
        "    referencia = \"0\" + str(int(ref[0]) - 1) + \"-\" + ref[1]\n",
        "else:\n",
        "  referencia = str(int(ref[0]) - 1) + \"-\" + ref[1]\n",
        "\n"
      ],
      "metadata": {
        "id": "RKUgDJs5qxkz"
      },
      "execution_count": 10,
      "outputs": []
    },
    {
      "cell_type": "code",
      "source": [
        "tstt[['Dt. Faturamento', 'Matrícula']].groupby('Dt. Faturamento').agg('count')"
      ],
      "metadata": {
        "colab": {
          "base_uri": "https://localhost:8080/",
          "height": 143
        },
        "id": "5didATFO6VYB",
        "outputId": "adfc2ef9-55b1-4abb-e517-59420305263f"
      },
      "execution_count": 13,
      "outputs": [
        {
          "output_type": "execute_result",
          "data": {
            "text/plain": [
              "                 Matrícula\n",
              "Dt. Faturamento           \n",
              "03-22                    1\n",
              "04-22               104229"
            ],
            "text/html": [
              "\n",
              "  <div id=\"df-57e84ebb-cb7a-4829-a66f-9ccaab2ab29f\">\n",
              "    <div class=\"colab-df-container\">\n",
              "      <div>\n",
              "<style scoped>\n",
              "    .dataframe tbody tr th:only-of-type {\n",
              "        vertical-align: middle;\n",
              "    }\n",
              "\n",
              "    .dataframe tbody tr th {\n",
              "        vertical-align: top;\n",
              "    }\n",
              "\n",
              "    .dataframe thead th {\n",
              "        text-align: right;\n",
              "    }\n",
              "</style>\n",
              "<table border=\"1\" class=\"dataframe\">\n",
              "  <thead>\n",
              "    <tr style=\"text-align: right;\">\n",
              "      <th></th>\n",
              "      <th>Matrícula</th>\n",
              "    </tr>\n",
              "    <tr>\n",
              "      <th>Dt. Faturamento</th>\n",
              "      <th></th>\n",
              "    </tr>\n",
              "  </thead>\n",
              "  <tbody>\n",
              "    <tr>\n",
              "      <th>03-22</th>\n",
              "      <td>1</td>\n",
              "    </tr>\n",
              "    <tr>\n",
              "      <th>04-22</th>\n",
              "      <td>104229</td>\n",
              "    </tr>\n",
              "  </tbody>\n",
              "</table>\n",
              "</div>\n",
              "      <button class=\"colab-df-convert\" onclick=\"convertToInteractive('df-57e84ebb-cb7a-4829-a66f-9ccaab2ab29f')\"\n",
              "              title=\"Convert this dataframe to an interactive table.\"\n",
              "              style=\"display:none;\">\n",
              "        \n",
              "  <svg xmlns=\"http://www.w3.org/2000/svg\" height=\"24px\"viewBox=\"0 0 24 24\"\n",
              "       width=\"24px\">\n",
              "    <path d=\"M0 0h24v24H0V0z\" fill=\"none\"/>\n",
              "    <path d=\"M18.56 5.44l.94 2.06.94-2.06 2.06-.94-2.06-.94-.94-2.06-.94 2.06-2.06.94zm-11 1L8.5 8.5l.94-2.06 2.06-.94-2.06-.94L8.5 2.5l-.94 2.06-2.06.94zm10 10l.94 2.06.94-2.06 2.06-.94-2.06-.94-.94-2.06-.94 2.06-2.06.94z\"/><path d=\"M17.41 7.96l-1.37-1.37c-.4-.4-.92-.59-1.43-.59-.52 0-1.04.2-1.43.59L10.3 9.45l-7.72 7.72c-.78.78-.78 2.05 0 2.83L4 21.41c.39.39.9.59 1.41.59.51 0 1.02-.2 1.41-.59l7.78-7.78 2.81-2.81c.8-.78.8-2.07 0-2.86zM5.41 20L4 18.59l7.72-7.72 1.47 1.35L5.41 20z\"/>\n",
              "  </svg>\n",
              "      </button>\n",
              "      \n",
              "  <style>\n",
              "    .colab-df-container {\n",
              "      display:flex;\n",
              "      flex-wrap:wrap;\n",
              "      gap: 12px;\n",
              "    }\n",
              "\n",
              "    .colab-df-convert {\n",
              "      background-color: #E8F0FE;\n",
              "      border: none;\n",
              "      border-radius: 50%;\n",
              "      cursor: pointer;\n",
              "      display: none;\n",
              "      fill: #1967D2;\n",
              "      height: 32px;\n",
              "      padding: 0 0 0 0;\n",
              "      width: 32px;\n",
              "    }\n",
              "\n",
              "    .colab-df-convert:hover {\n",
              "      background-color: #E2EBFA;\n",
              "      box-shadow: 0px 1px 2px rgba(60, 64, 67, 0.3), 0px 1px 3px 1px rgba(60, 64, 67, 0.15);\n",
              "      fill: #174EA6;\n",
              "    }\n",
              "\n",
              "    [theme=dark] .colab-df-convert {\n",
              "      background-color: #3B4455;\n",
              "      fill: #D2E3FC;\n",
              "    }\n",
              "\n",
              "    [theme=dark] .colab-df-convert:hover {\n",
              "      background-color: #434B5C;\n",
              "      box-shadow: 0px 1px 3px 1px rgba(0, 0, 0, 0.15);\n",
              "      filter: drop-shadow(0px 1px 2px rgba(0, 0, 0, 0.3));\n",
              "      fill: #FFFFFF;\n",
              "    }\n",
              "  </style>\n",
              "\n",
              "      <script>\n",
              "        const buttonEl =\n",
              "          document.querySelector('#df-57e84ebb-cb7a-4829-a66f-9ccaab2ab29f button.colab-df-convert');\n",
              "        buttonEl.style.display =\n",
              "          google.colab.kernel.accessAllowed ? 'block' : 'none';\n",
              "\n",
              "        async function convertToInteractive(key) {\n",
              "          const element = document.querySelector('#df-57e84ebb-cb7a-4829-a66f-9ccaab2ab29f');\n",
              "          const dataTable =\n",
              "            await google.colab.kernel.invokeFunction('convertToInteractive',\n",
              "                                                     [key], {});\n",
              "          if (!dataTable) return;\n",
              "\n",
              "          const docLinkHtml = 'Like what you see? Visit the ' +\n",
              "            '<a target=\"_blank\" href=https://colab.research.google.com/notebooks/data_table.ipynb>data table notebook</a>'\n",
              "            + ' to learn more about interactive tables.';\n",
              "          element.innerHTML = '';\n",
              "          dataTable['output_type'] = 'display_data';\n",
              "          await google.colab.output.renderOutput(dataTable, element);\n",
              "          const docLink = document.createElement('div');\n",
              "          docLink.innerHTML = docLinkHtml;\n",
              "          element.appendChild(docLink);\n",
              "        }\n",
              "      </script>\n",
              "    </div>\n",
              "  </div>\n",
              "  "
            ]
          },
          "metadata": {},
          "execution_count": 13
        }
      ]
    }
  ]
}